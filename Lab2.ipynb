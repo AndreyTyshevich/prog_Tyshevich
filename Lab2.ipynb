{
 "cells": [
  {
   "cell_type": "code",
   "execution_count": 1,
   "metadata": {},
   "outputs": [],
   "source": [
    "import numpy as np\n",
    "import time\n",
    "import matplotlib.pyplot as plt\n",
    "import random"
   ]
  },
  {
   "cell_type": "markdown",
   "metadata": {},
   "source": [
    "# Упражнение 1"
   ]
  },
  {
   "cell_type": "code",
   "execution_count": 33,
   "metadata": {},
   "outputs": [],
   "source": [
    "def np_check():\n",
    "    start = time.time()\n",
    "    x = np.arange(size_of_vec)\n",
    "    y = np.arange(size_of_vec)\n",
    "    z = 2*x**2 + 4*y\n",
    "    return time.time() - start"
   ]
  },
  {
   "cell_type": "code",
   "execution_count": 34,
   "metadata": {},
   "outputs": [],
   "source": [
    "def py_check():\n",
    "    start = time.time()\n",
    "    x = range(size_of_vec)\n",
    "    y = range(size_of_vec)\n",
    "    z = [2*x[i]**2 + 4*y[i] for i in range(len(x)) ]\n",
    "    return time.time() - start"
   ]
  },
  {
   "cell_type": "code",
   "execution_count": 35,
   "metadata": {},
   "outputs": [
    {
     "data": {
      "text/plain": [
       "<function matplotlib.pyplot.show(*args, **kw)>"
      ]
     },
     "execution_count": 35,
     "metadata": {},
     "output_type": "execute_result"
    },
    {
     "data": {
      "image/png": "[encoded data removed]",
      "text/plain": [
       "<Figure size 432x288 with 1 Axes>"
      ]
     },
     "metadata": {
      "needs_background": "light"
     },
     "output_type": "display_data"
    }
   ],
   "source": [
    "times_py = []\n",
    "times_np = []\n",
    "size = [10000, 20000, 30000, 40000, 50000]\n",
    "for size_of_vec in size:\n",
    "    median_py = 0\n",
    "    median_np = 0\n",
    "    for i in range (5):\n",
    "        median_py += py_check()/5\n",
    "        median_np += np_check()/5\n",
    "    times_py.append(median_py)\n",
    "    times_np.append(median_np)\n",
    "plt.plot(size, times_py, size, times_np)\n",
    "plt.show"
   ]
  },
  {
   "cell_type": "code",
   "execution_count": 36,
   "metadata": {},
   "outputs": [
    {
     "data": {
      "image/png": "[encoded data removed]",
      "text/plain": [
       "<Figure size 432x288 with 1 Axes>"
      ]
     },
     "metadata": {
      "needs_background": "light"
     },
     "output_type": "display_data"
    }
   ],
   "source": [
    "import timeit\n",
    "\n",
    "def python(n):\n",
    "    start = time.time()\n",
    "\n",
    "    A = [[random.random() for j in range(n)] for i in range(n)]\n",
    "    B = [[random.random() for j in range(n)] for i in range(n)]\n",
    "    C = [[0 for i in range(n)] for j in range(n)]\n",
    "\n",
    "    for i in range(n):\n",
    "        for j in range(n):\n",
    "            for k in range(n):\n",
    "                C[i][j] += A[i][k]*B[k][j]\n",
    "    return time.time() - start\n",
    "\n",
    "def numpy(n):\n",
    "    start = time.time()\n",
    "    A = np.random.random((n, n))\n",
    "    B = np.random.random((n, n))\n",
    "    C=A*B\n",
    "    return time.time() - start\n",
    "\n",
    "n = np.arange(7, 77, 7)\n",
    "tpy = []\n",
    "tnumpy = []\n",
    "for i in n:\n",
    "    a = 0.0\n",
    "    tpy.append(python(i))\n",
    "    tnumpy.append(numpy(i))\n",
    "plt.plot(n, tpy, n, tnumpy)\n",
    "plt.show()"
   ]
  },
  {
   "cell_type": "markdown",
   "metadata": {},
   "source": [
    "# Упражнение 2"
   ]
  },
  {
   "cell_type": "code",
   "execution_count": 37,
   "metadata": {},
   "outputs": [
    {
     "name": "stdout",
     "output_type": "stream",
     "text": [
      "[ 2  3  4  5  6  7  8  9 10 11 12 13 14 15 16 17 18 19 20 21 22 23 24 25\n",
      " 26 27 28 29 30 31 32 33 34 35 36 37 38 39 40 41 42 43 44 45 46 47 48 49\n",
      " 50 51 52 53 54 55 56 57 58 59 60 61 62 63 64 65 66 67 68 69 70 71 72 73\n",
      " 74 75] \n",
      "\n",
      "[ 3  5  7  9 11 13 15 17 19 21 23 25 27 29 31 33 35 37 39 41 43 45 47 49\n",
      " 51 53 55 57 59 61 63 65 67 69 71 73 75] \n",
      "\n",
      "[ 2 -1  4 -1  6 -1  8 -1 10 -1 12 -1 14 -1 16 -1 18 -1 20 -1 22 -1 24 -1\n",
      " 26 -1 28 -1 30 -1 32 -1 34 -1 36 -1 38 -1 40 -1 42 -1 44 -1 46 -1 48 -1\n",
      " 50 -1 52 -1 54 -1 56 -1 58 -1 60 -1 62 -1 64 -1 66 -1 68 -1 70 -1 72 -1\n",
      " 74 -1]\n"
     ]
    }
   ],
   "source": [
    "size = 76\n",
    "x = np.arange(2, 76, 1)\n",
    "print(x, \"\\n\")\n",
    "print(x[x%2 == 1], \"\\n\")\n",
    "x[x%2 == 1] = -1\n",
    "print(x)"
   ]
  },
  {
   "cell_type": "markdown",
   "metadata": {},
   "source": [
    "# Упражнение 3"
   ]
  },
  {
   "cell_type": "code",
   "execution_count": 38,
   "metadata": {},
   "outputs": [
    {
     "name": "stdout",
     "output_type": "stream",
     "text": [
      "[[0. 0. 0. 0. 0. 0. 0. 0. 0. 0.]\n",
      " [0. 0. 0. 0. 0. 0. 0. 0. 0. 0.]]\n"
     ]
    }
   ],
   "source": [
    "a = np.zeros((10, 2))\n",
    "\n",
    "b = a.T\n",
    "\n",
    "print (b)"
   ]
  },
  {
   "cell_type": "code",
   "execution_count": 39,
   "metadata": {},
   "outputs": [
    {
     "name": "stdout",
     "output_type": "stream",
     "text": [
      "[[0 1]\n",
      " [2 3]\n",
      " [4 5]]\n"
     ]
    }
   ],
   "source": [
    "a = np.arange(6).reshape((3, 2))\n",
    "print (a)"
   ]
  },
  {
   "cell_type": "code",
   "execution_count": 40,
   "metadata": {},
   "outputs": [
    {
     "name": "stdout",
     "output_type": "stream",
     "text": [
      "[[0 1 2]\n",
      " [3 4 5]]\n"
     ]
    }
   ],
   "source": [
    "print (np.reshape(a, (2, 3)))"
   ]
  },
  {
   "cell_type": "code",
   "execution_count": 41,
   "metadata": {},
   "outputs": [
    {
     "name": "stdout",
     "output_type": "stream",
     "text": [
      "[[0 1 2]\n",
      " [3 4 5]]\n"
     ]
    }
   ],
   "source": [
    "# equivalent to C ravel then C reshape\n",
    "print (np.reshape(np.ravel(a), (2, 3)))"
   ]
  },
  {
   "cell_type": "code",
   "execution_count": 42,
   "metadata": {},
   "outputs": [
    {
     "name": "stdout",
     "output_type": "stream",
     "text": [
      "[[0 4 3]\n",
      " [2 1 5]]\n"
     ]
    }
   ],
   "source": [
    "# Fortran-like index ordering\n",
    "print (np.reshape(a, (2, 3), order='F'))"
   ]
  },
  {
   "cell_type": "code",
   "execution_count": 43,
   "metadata": {},
   "outputs": [
    {
     "name": "stdout",
     "output_type": "stream",
     "text": [
      "[[0 4 3]\n",
      " [2 1 5]]\n"
     ]
    }
   ],
   "source": [
    "print (np.reshape(np.ravel(a, order='F'), (2, 3), order='F'))"
   ]
  },
  {
   "cell_type": "code",
   "execution_count": 44,
   "metadata": {},
   "outputs": [
    {
     "name": "stdout",
     "output_type": "stream",
     "text": [
      "[1 2 3 4 5 6] \n",
      "\n",
      "[1 4 2 5 3 6]\n"
     ]
    }
   ],
   "source": [
    "a = np.array([[1,2,3], [4,5,6]])\n",
    "print (np.reshape(a, 6), \"\\n\")\n",
    "print (np.reshape(a, 6, order='F'))"
   ]
  },
  {
   "cell_type": "code",
   "execution_count": 45,
   "metadata": {},
   "outputs": [
    {
     "name": "stdout",
     "output_type": "stream",
     "text": [
      "[[1 2]\n",
      " [3 4]\n",
      " [5 6]]\n"
     ]
    }
   ],
   "source": [
    "print(np.reshape(a, (3,-1)))"
   ]
  },
  {
   "cell_type": "code",
   "execution_count": 46,
   "metadata": {},
   "outputs": [
    {
     "name": "stdout",
     "output_type": "stream",
     "text": [
      "[4 5]\n"
     ]
    }
   ],
   "source": [
    "# Убираем из одного массива элементы другого\n",
    "a = np.array([1, 2, 3, 4, 5])\n",
    "b = np.array([1,2,3])\n",
    "c = np.setdiff1d(a,b)\n",
    "\n",
    "print(c)"
   ]
  },
  {
   "cell_type": "markdown",
   "metadata": {},
   "source": [
    "# Упражнение 4"
   ]
  },
  {
   "cell_type": "code",
   "execution_count": 47,
   "metadata": {},
   "outputs": [
    {
     "name": "stdout",
     "output_type": "stream",
     "text": [
      "Generated array: [[97 18 13 68]\n",
      " [84 33 73 56]\n",
      " [44 38 26 12]\n",
      " [17 20 16 28]] \n",
      "\n",
      "Maximum: 97 \n",
      "\n",
      "Division: [[1.         0.18556701 0.13402062 0.70103093]\n",
      " [0.86597938 0.34020619 0.75257732 0.57731959]\n",
      " [0.45360825 0.39175258 0.26804124 0.12371134]\n",
      " [0.17525773 0.20618557 0.16494845 0.28865979]] \n",
      "\n",
      "Substraction: [[ 48.   -31.   -36.    19.  ]\n",
      " [ 22.5  -28.5   11.5   -5.5 ]\n",
      " [ 14.     8.    -4.   -18.  ]\n",
      " [ -3.25  -0.25  -4.25   7.75]] \n",
      "\n",
      "-1: [[-1 18 13 68]\n",
      " [84 33 73 56]\n",
      " [44 38 26 12]\n",
      " [17 20 16 28]]\n"
     ]
    }
   ],
   "source": [
    "n = random.randint(3, 7)\n",
    "b = np.random.choice(100, n*n)\n",
    "c = np.reshape(b, (n, n))\n",
    "print(\"Generated array:\", c, \"\\n\")\n",
    "\n",
    "M = np.ma.max(c)\n",
    "print(\"Maximum:\", M, \"\\n\")\n",
    "\n",
    "devided = c/M\n",
    "print(\"Division:\", devided, \"\\n\")\n",
    "\n",
    "substract = c - c.mean(axis=1).reshape(-1, 1)\n",
    "print(\"Substraction:\", substract, \"\\n\")\n",
    "\n",
    "c[c == M] = -1\n",
    "print(\"-1:\", c)"
   ]
  },
  {
   "cell_type": "markdown",
   "metadata": {},
   "source": [
    "# Упражнение 5"
   ]
  },
  {
   "cell_type": "code",
   "execution_count": 48,
   "metadata": {},
   "outputs": [],
   "source": [
    "n = random.randint(3, 7)\n",
    "x = np.reshape(np.random.choice(10, n*n), (n, n))\n",
    "np.savetxt('test.txt', x)"
   ]
  },
  {
   "cell_type": "code",
   "execution_count": 49,
   "metadata": {},
   "outputs": [
    {
     "name": "stdout",
     "output_type": "stream",
     "text": [
      "[[9. 2. 0. 3.]\n",
      " [5. 5. 4. 7.]\n",
      " [4. 3. 4. 8.]\n",
      " [5. 2. 0. 8.]]\n"
     ]
    }
   ],
   "source": [
    "print(np.loadtxt('test.txt'))"
   ]
  },
  {
   "cell_type": "markdown",
   "metadata": {},
   "source": [
    "# Упражнение 6"
   ]
  },
  {
   "cell_type": "code",
   "execution_count": 50,
   "metadata": {},
   "outputs": [
    {
     "name": "stdout",
     "output_type": "stream",
     "text": [
      "[46 65 36 78 29 41 54 42 75 33]\n",
      "25.375431892431152\n",
      "29\n"
     ]
    }
   ],
   "source": [
    "def getnearpos(array, value):\n",
    "    idx = (np.abs(array-value)).argmin()\n",
    "    return array[idx]\n",
    "\n",
    "x = np.random.randint(0, 100, 10)\n",
    "print(x)\n",
    "c = random.randint(0, 99) + random.random()\n",
    "print(c)\n",
    "print(getnearpos(x, c))"
   ]
  },
  {
   "cell_type": "code",
   "execution_count": null,
   "metadata": {},
   "outputs": [],
   "source": []
  }
 ],
 "metadata": {
  "kernelspec": {
   "display_name": "Python 3",
   "language": "python",
   "name": "python3"
  },
  "language_info": {
   "codemirror_mode": {
    "name": "ipython",
    "version": 3
   },
   "file_extension": ".py",
   "mimetype": "text/x-python",
   "name": "python",
   "nbconvert_exporter": "python",
   "pygments_lexer": "ipython3",
   "version": "3.7.1"
  }
 },
 "nbformat": 4,
 "nbformat_minor": 2
}
